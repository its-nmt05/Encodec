{
 "cells": [
  {
   "cell_type": "code",
   "execution_count": 75,
   "metadata": {},
   "outputs": [],
   "source": [
    "import os\n",
    "import torch\n",
    "import torchaudio\n",
    "\n",
    "from encodec import EncodecModel\n",
    "from encodec.utils import convert_audio, save_audio"
   ]
  },
  {
   "cell_type": "code",
   "execution_count": 76,
   "metadata": {},
   "outputs": [],
   "source": [
    "input_dir = \"./samples/inputs/\"\n",
    "output_dir = \"./samples/outputs/\"\n",
    "sample_rate = 24000\n",
    "device = \"cuda\" if torch.cuda.is_available() else \"cpu\""
   ]
  },
  {
   "cell_type": "code",
   "execution_count": 83,
   "metadata": {},
   "outputs": [],
   "source": [
    "model = EncodecModel._get_model(target_bandwidths=[1.5, 3, 6, 12, 24], \n",
    "                                sample_rate=sample_rate, \n",
    "                                channels=1, causal=False, audio_normalize=False, segment=None).to(device)"
   ]
  },
  {
   "cell_type": "code",
   "execution_count": 84,
   "metadata": {},
   "outputs": [
    {
     "name": "stderr",
     "output_type": "stream",
     "text": [
      "C:\\Users\\debja\\AppData\\Local\\Temp\\ipykernel_9904\\3267540992.py:1: FutureWarning: You are using `torch.load` with `weights_only=False` (the current default value), which uses the default pickle module implicitly. It is possible to construct malicious pickle data which will execute arbitrary code during unpickling (See https://github.com/pytorch/pytorch/blob/main/SECURITY.md#untrusted-models for more details). In a future release, the default value for `weights_only` will be flipped to `True`. This limits the functions that could be executed during unpickling. Arbitrary objects will no longer be allowed to be loaded via this mode unless they are explicitly allowlisted by the user via `torch.serialization.add_safe_globals`. We recommend you start setting `weights_only=True` for any use case where you don't have full control of the loaded file. Please open an issue on GitHub for any issues related to this experimental feature.\n",
      "  model.load_state_dict(torch.load(\"./training/model_two.pth\"))\n"
     ]
    },
    {
     "data": {
      "text/plain": [
       "<All keys matched successfully>"
      ]
     },
     "execution_count": 84,
     "metadata": {},
     "output_type": "execute_result"
    }
   ],
   "source": [
    "model.load_state_dict(torch.load(\"./training/model_two.pth\"))"
   ]
  },
  {
   "cell_type": "code",
   "execution_count": 79,
   "metadata": {},
   "outputs": [],
   "source": [
    "def sample(audio_file_path, out_path, model):\n",
    "    wv, _ = torchaudio.load(audio_file_path)\n",
    "    if len(wv.shape) < 3:\n",
    "        wv = wv.unsqueeze(0).to(device)\n",
    "    model.eval()\n",
    "    out_wv = model(wv)[0].detach().cpu()\n",
    "    out_wv = convert_audio(out_wv, sample_rate, sample_rate, target_channels=1)\n",
    "    save_audio(out_wv, out_path, sample_rate)"
   ]
  },
  {
   "cell_type": "code",
   "execution_count": 85,
   "metadata": {},
   "outputs": [],
   "source": [
    "for f in os.listdir(input_dir):\n",
    "    audio_file_path = os.path.join(input_dir, f)\n",
    "    fname, ext = os.path.splitext(os.path.basename(audio_file_path))\n",
    "    fout_name = f\"{fname}_out{ext}\"\n",
    "    fout_path = os.path.join(output_dir, fout_name)\n",
    "    sample(audio_file_path, fout_path, model)"
   ]
  }
 ],
 "metadata": {
  "kernelspec": {
   "display_name": "dev",
   "language": "python",
   "name": "python3"
  },
  "language_info": {
   "codemirror_mode": {
    "name": "ipython",
    "version": 3
   },
   "file_extension": ".py",
   "mimetype": "text/x-python",
   "name": "python",
   "nbconvert_exporter": "python",
   "pygments_lexer": "ipython3",
   "version": "3.9.20"
  }
 },
 "nbformat": 4,
 "nbformat_minor": 2
}
