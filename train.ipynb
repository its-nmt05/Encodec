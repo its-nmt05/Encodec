{
 "cells": [
  {
   "cell_type": "code",
   "execution_count": 1,
   "metadata": {},
   "outputs": [],
   "source": [
    "import torch\n",
    "import torch.optim as optim\n",
    "from torch.utils.data import DataLoader\n",
    "import matplotlib.pyplot as plt\n",
    "\n",
    "from encodec import EncodecModel\n",
    "from encodec.msstftd import MultiScaleSTFTDiscriminator\n",
    "import encodec.customAudioDataset as data\n",
    "from encodec.losses import total_loss, disc_loss\n",
    "from encodec.utils import convert_audio, save_audio\n",
    "from encodec.customAudioDataset import collate_fn"
   ]
  },
  {
   "cell_type": "code",
   "execution_count": 2,
   "metadata": {},
   "outputs": [],
   "source": [
    "num_epochs = 30\n",
    "batch_size = 2\n",
    "sample_rate = 24000\n",
    "learning_rate = 0.01\n",
    "dataset_path = './dataset'\n",
    "device = 'cuda' if torch.cuda.is_available() else 'cpu'"
   ]
  },
  {
   "cell_type": "code",
   "execution_count": 3,
   "metadata": {},
   "outputs": [],
   "source": [
    "dataset = data.CustomAudioDataset(dataset_folder=dataset_path, n_samples=50, sample_rate=sample_rate, tensor_cut=24000)\n",
    "data_loader = DataLoader(dataset, batch_size=batch_size, shuffle=True, collate_fn=collate_fn)"
   ]
  },
  {
   "cell_type": "code",
   "execution_count": 4,
   "metadata": {},
   "outputs": [],
   "source": [
    "model = EncodecModel._get_model(target_bandwidths=[6], \n",
    "                                sample_rate=sample_rate, \n",
    "                                channels=1, causal=False, audio_normalize=True, segment=1.0).to(device)\n",
    "\n",
    "disc = MultiScaleSTFTDiscriminator(filters=32).to(device)"
   ]
  },
  {
   "cell_type": "code",
   "execution_count": 5,
   "metadata": {},
   "outputs": [],
   "source": [
    "optimizer = optim.Adam(model.parameters(), lr=learning_rate, betas=(0.8, 0.99))\n",
    "optimizer_disc = optim.Adam(disc.parameters(), lr=learning_rate, betas=(0.8, 0.99))"
   ]
  },
  {
   "cell_type": "code",
   "execution_count": 6,
   "metadata": {},
   "outputs": [],
   "source": [
    "losses = {'loss_g': [], 'loss_w': [], 'loss_disc': []}\n",
    "\n",
    "def train(n_epocs, model, disc, data_loader, optimizer, optimizer_disc):\n",
    "    def adjust_learning_rate(optimizer, epoch):\n",
    "        if epoch % 100 == 0:\n",
    "            for param_group in optimizer.param_groups:\n",
    "                param_group['lr'] *= 0.1\n",
    "        \n",
    "    def train_one_step(epoch):\n",
    "        epoch_loss_g = 0.0\n",
    "        epoch_loss_w = 0.0\n",
    "        epoch_loss_disc = 0.0\n",
    "        for i, input_wav in enumerate(data_loader):\n",
    "            input_wav = input_wav.contiguous().to(device)\n",
    "            optimizer.zero_grad()            \n",
    "            optimizer_disc.zero_grad()  \n",
    "            model.zero_grad()\n",
    "            disc.zero_grad()\n",
    "            \n",
    "            output_wav, loss_w = model(input_wav)\n",
    "            logits_real, fmap_real = disc(input_wav)\n",
    "            logits_fake, fmap_fake = disc(output_wav)\n",
    "                \n",
    "            losses_g = total_loss(fmap_real, logits_fake, fmap_fake, input_wav, output_wav, sample_rate, device)\n",
    "            loss_g = 3 * losses_g['l_g'] + 3 * losses_g['l_feat'] + losses_g['l_t'] / 10 + losses_g['l_f']\n",
    "            \n",
    "            logits_real, _ = disc(input_wav)\n",
    "            logits_fake, _ = disc(output_wav.detach())  \n",
    "            loss_disc = disc_loss(logits_real, logits_fake)\n",
    "            \n",
    "            loss_w.backward(retain_graph=True)\n",
    "            loss_g.backward()\n",
    "            loss_disc.backward()\n",
    "            optimizer.step()\n",
    "            optimizer_disc.step()\n",
    "            \n",
    "            epoch_loss_g += loss_g.item()   \n",
    "            epoch_loss_w += loss_w.item()   \n",
    "            epoch_loss_disc += loss_disc.item()\n",
    "            \n",
    "        epoch_loss_g /= len(data_loader)    \n",
    "        epoch_loss_w /= len(data_loader)\n",
    "        epoch_loss_disc /= len(data_loader)\n",
    "            \n",
    "        losses['loss_g'].append(epoch_loss_g)\n",
    "        losses['loss_w'].append(epoch_loss_w)\n",
    "        losses['loss_disc'].append(epoch_loss_disc)\n",
    "            \n",
    "        # if epoch % 10 == 0:\n",
    "        print(f'Epoch {epoch} | Loss_g: {epoch_loss_g:.4f} | Loss_w: {epoch_loss_w:.4f} | Loss_disc: {epoch_loss_disc:.4f}')\n",
    "    \n",
    "    model.train()\n",
    "    disc.train()\n",
    "    for epoch in range(n_epocs):\n",
    "        train_one_step(epoch)\n",
    "        # adjust_learning_rate(optimizer, epoch)\n",
    "        # adjust_learning_rate(optimizer_disc, epoch)\n",
    "     "
   ]
  },
  {
   "cell_type": "code",
   "execution_count": 7,
   "metadata": {},
   "outputs": [
    {
     "name": "stderr",
     "output_type": "stream",
     "text": [
      "c:\\Projects\\audio-test\\encodec\\audio_to_mel.py:17: UserWarning: Empty filters detected in mel frequency basis. Some channels will produce empty responses. Try increasing your sampling rate (and fmax) or reducing n_mels.\n",
      "  mel_basis = librosa_mel_fn(sr=sampling_rate, n_fft=n_fft, n_mels=n_mel_banks, fmin=mel_fmin, fmax=mel_fmax)\n"
     ]
    },
    {
     "name": "stdout",
     "output_type": "stream",
     "text": [
      "Epoch 0 | Loss_g: 4.5053 | Loss_w: 0.2422 | Loss_disc: 3.5027\n",
      "Epoch 1 | Loss_g: 3.9342 | Loss_w: 0.0001 | Loss_disc: 2.1590\n",
      "Epoch 2 | Loss_g: 3.9794 | Loss_w: 0.0000 | Loss_disc: 2.1693\n",
      "Epoch 3 | Loss_g: 4.1839 | Loss_w: 0.0000 | Loss_disc: 2.1417\n",
      "Epoch 4 | Loss_g: 4.1786 | Loss_w: 0.0000 | Loss_disc: 2.4841\n",
      "Epoch 5 | Loss_g: 4.1989 | Loss_w: 0.0000 | Loss_disc: 2.0387\n",
      "Epoch 6 | Loss_g: 3.9871 | Loss_w: 0.0000 | Loss_disc: 2.0199\n",
      "Epoch 7 | Loss_g: 4.0559 | Loss_w: 0.0000 | Loss_disc: 2.0206\n",
      "Epoch 8 | Loss_g: 4.0433 | Loss_w: 0.0000 | Loss_disc: 2.0329\n",
      "Epoch 9 | Loss_g: 33.8569 | Loss_w: 0.0000 | Loss_disc: 84.9182\n",
      "Epoch 10 | Loss_g: 9.1494 | Loss_w: 0.0000 | Loss_disc: 22.4654\n",
      "Epoch 11 | Loss_g: 5.1429 | Loss_w: 0.0000 | Loss_disc: 5.3235\n",
      "Epoch 12 | Loss_g: 4.3415 | Loss_w: 0.0000 | Loss_disc: 2.5694\n",
      "Epoch 13 | Loss_g: 4.0936 | Loss_w: 0.0000 | Loss_disc: 2.2122\n",
      "Epoch 14 | Loss_g: 4.2107 | Loss_w: 0.0000 | Loss_disc: 2.1059\n",
      "Epoch 15 | Loss_g: 4.1526 | Loss_w: 0.0000 | Loss_disc: 2.0735\n",
      "Epoch 16 | Loss_g: 4.1287 | Loss_w: 0.0000 | Loss_disc: 2.0594\n",
      "Epoch 17 | Loss_g: 4.2027 | Loss_w: 0.0000 | Loss_disc: 2.0548\n",
      "Epoch 18 | Loss_g: 3.8848 | Loss_w: 0.0000 | Loss_disc: 2.0541\n",
      "Epoch 19 | Loss_g: 43.3304 | Loss_w: 0.0000 | Loss_disc: 77.0664\n",
      "Epoch 20 | Loss_g: 22.0183 | Loss_w: 0.0000 | Loss_disc: 106.5949\n",
      "Epoch 21 | Loss_g: 5.7724 | Loss_w: 0.0000 | Loss_disc: 4.8682\n",
      "Epoch 22 | Loss_g: 4.8747 | Loss_w: 0.0000 | Loss_disc: 2.6761\n",
      "Epoch 23 | Loss_g: 4.3137 | Loss_w: 0.0001 | Loss_disc: 2.2044\n",
      "Epoch 24 | Loss_g: 4.4933 | Loss_w: 0.0000 | Loss_disc: 2.5840\n",
      "Epoch 25 | Loss_g: 4.2443 | Loss_w: 0.0000 | Loss_disc: 2.1125\n",
      "Epoch 26 | Loss_g: 4.2806 | Loss_w: 0.0000 | Loss_disc: 2.1039\n",
      "Epoch 27 | Loss_g: 4.3229 | Loss_w: 0.0002 | Loss_disc: 2.1149\n",
      "Epoch 28 | Loss_g: 24.5214 | Loss_w: 0.0000 | Loss_disc: 45.4472\n",
      "Epoch 29 | Loss_g: 10.4472 | Loss_w: 0.0000 | Loss_disc: 32.4839\n"
     ]
    }
   ],
   "source": [
    "train(num_epochs, model, disc, data_loader, optimizer, optimizer_disc)"
   ]
  },
  {
   "cell_type": "code",
   "execution_count": 8,
   "metadata": {},
   "outputs": [
    {
     "data": {
      "text/plain": [
       "[<matplotlib.lines.Line2D at 0x2a2c96baeb0>]"
      ]
     },
     "execution_count": 8,
     "metadata": {},
     "output_type": "execute_result"
    },
    {
     "data": {
      "image/png": "[encoded data removed]",
      "text/plain": [
       "<Figure size 640x480 with 1 Axes>"
      ]
     },
     "metadata": {},
     "output_type": "display_data"
    }
   ],
   "source": [
    "plt.plot(losses['loss_g'], label='Loss_g')\n",
    "plt.plot(losses['loss_w'], label='Loss_w')\n",
    "plt.plot(losses['loss_disc'], label='Loss_disc')"
   ]
  },
  {
   "cell_type": "code",
   "execution_count": 9,
   "metadata": {},
   "outputs": [],
   "source": [
    "input = next(iter(data_loader)).to(device)"
   ]
  },
  {
   "cell_type": "code",
   "execution_count": 10,
   "metadata": {},
   "outputs": [],
   "source": [
    "model.eval()\n",
    "out = model.decode(model.encode(input))"
   ]
  },
  {
   "cell_type": "code",
   "execution_count": 11,
   "metadata": {},
   "outputs": [],
   "source": [
    "save_audio(convert_audio(input[0].cpu(), sample_rate, sample_rate, 1), 'input.wav', sample_rate, True)"
   ]
  }
 ],
 "metadata": {
  "kernelspec": {
   "display_name": "dev",
   "language": "python",
   "name": "python3"
  },
  "language_info": {
   "codemirror_mode": {
    "name": "ipython",
    "version": 3
   },
   "file_extension": ".py",
   "mimetype": "text/x-python",
   "name": "python",
   "nbconvert_exporter": "python",
   "pygments_lexer": "ipython3",
   "version": "3.9.20"
  }
 },
 "nbformat": 4,
 "nbformat_minor": 2
}
