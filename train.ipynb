{
 "cells": [
  {
   "cell_type": "code",
   "execution_count": 11,
   "metadata": {},
   "outputs": [],
   "source": [
    "import torch\n",
    "import torch.optim as optim\n",
    "from torch.utils.data import DataLoader\n",
    "import matplotlib.pyplot as plt\n",
    "\n",
    "from encodec import EncodecModel\n",
    "import encodec.customAudioDataset as data\n",
    "from encodec.losses import total_loss\n",
    "from encodec.utils import convert_audio, save_audio\n",
    "from encodec.customAudioDataset import collate_fn"
   ]
  },
  {
   "cell_type": "code",
   "execution_count": 12,
   "metadata": {},
   "outputs": [],
   "source": [
    "num_epochs = 100\n",
    "batch_size = 4\n",
    "sample_rate = 24000\n",
    "learning_rate = 1e-2\n",
    "dataset_path = './data'\n",
    "device = 'cuda' if torch.cuda.is_available() else 'cpu'"
   ]
  },
  {
   "cell_type": "code",
   "execution_count": 13,
   "metadata": {},
   "outputs": [],
   "source": [
    "dataset = data.CustomAudioDataset(dataset_folder=dataset_path, n_samples=100, sample_rate=sample_rate)\n",
    "data_loader = DataLoader(dataset, batch_size=batch_size, shuffle=True, collate_fn=collate_fn)"
   ]
  },
  {
   "cell_type": "code",
   "execution_count": 14,
   "metadata": {},
   "outputs": [],
   "source": [
    "model = EncodecModel._get_model(target_bandwidths=[3], \n",
    "                                sample_rate=sample_rate, \n",
    "                                channels=1, causal=False).to(device)"
   ]
  },
  {
   "cell_type": "code",
   "execution_count": 15,
   "metadata": {},
   "outputs": [],
   "source": [
    "optimizer = optim.Adam(model.parameters(), lr=learning_rate)"
   ]
  },
  {
   "cell_type": "code",
   "execution_count": 16,
   "metadata": {},
   "outputs": [],
   "source": [
    "losses_g = []\n",
    "losses_w = []\n",
    "\n",
    "def train(n_epocs, model, data_loader, optimizer):\n",
    "    model.train()\n",
    "    for epoch in range(n_epocs):\n",
    "        accum_loss_w = 0.0\n",
    "        accum_loss_g = 0.0\n",
    "        for i, input_wav in enumerate(data_loader):\n",
    "            input_wav = input_wav.to(device)\n",
    "            output_wav, loss_w = model(input_wav)\n",
    "            loss_g = total_loss(input_wav, output_wav, sample_rate, device)\n",
    "            loss = loss_g['l_t'] / 10 + loss_g['l_f']\n",
    "            \n",
    "            optimizer.zero_grad()\n",
    "            loss.backward(retai n_graph=True)    \n",
    "            loss_w.backward()\n",
    "            optimizer.step()\n",
    "            \n",
    "            accum_loss_g += loss.item()\n",
    "            accum_loss_w += loss_w.item()\n",
    "        \n",
    "        epoch_loss_g = accum_loss_g / len(data_loader)\n",
    "        epoch_loss_w = accum_loss_w / len(data_loader)\n",
    "        losses_g.append(epoch_loss_g)\n",
    "        losses_w.append(epoch_loss_w)\n",
    "        \n",
    "        if epoch % 10 == 0:\n",
    "            print(f'Epoch {epoch} | Loss_g: {epoch_loss_g} | Loss_w: {epoch_loss_w}')"
   ]
  }
 ],
 "metadata": {
  "kernelspec": {
   "display_name": "dev",
   "language": "python",
   "name": "python3"
  },
  "language_info": {
   "codemirror_mode": {
    "name": "ipython",
    "version": 3
   },
   "file_extension": ".py",
   "mimetype": "text/x-python",
   "name": "python",
   "nbconvert_exporter": "python",
   "pygments_lexer": "ipython3",
   "version": "3.9.20"
  }
 },
 "nbformat": 4,
 "nbformat_minor": 2
}
